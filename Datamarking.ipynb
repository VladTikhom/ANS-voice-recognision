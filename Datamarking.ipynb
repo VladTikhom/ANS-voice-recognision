{
 "cells": [
  {
   "cell_type": "code",
   "execution_count": 2,
   "metadata": {},
   "outputs": [],
   "source": [
    "import wave\n",
    "import pandas as pd\n",
    "import numpy as np\n",
    "import os\n",
    "import python_speech_features\n",
    "FRQ = 16000\n",
    "OUTPUT_LENGHT = 2"
   ]
  },
  {
   "cell_type": "code",
   "execution_count": 3,
   "metadata": {},
   "outputs": [],
   "source": [
    "file_names = ['1.wav', '3.wav', '5.wav']\n",
    "data = {'id': [], 'path': []}"
   ]
  },
  {
   "cell_type": "code",
   "execution_count": 4,
   "metadata": {},
   "outputs": [],
   "source": [
    "for file in file_names:\n",
    "    #получение массива нормированных значений амплитуд и длины аудиофайла (нахуй не надо, переделывай)\n",
    "    with wave.open(file) as wav_file:\n",
    "        signal = np.frombuffer(wav_file.readframes(wav_file.getnframes()), dtype=np.int16)\n",
    "        lng = signal.size // (2*FRQ)\n",
    "        params = wav_file.getparams()\n",
    "        if lng % OUTPUT_LENGHT != 0:\n",
    "            lng -= lng % OUTPUT_LENGHT\n",
    "    person_id = file.split('.')[0]\n",
    "    n = 0\n",
    "    if os.path.exists('data/{}'.format(person_id)) == False:\n",
    "        os.makedirs('data/{}'.format(person_id))\n",
    "    for i in range(0, lng):\n",
    "        path = 'data/{}/{}.wav'.format(person_id, n)\n",
    "        with wave.open(path, mode='w') as out_file:\n",
    "            out_file.setparams(params)\n",
    "            out_file.setnframes(2*FRQ)\n",
    "            out_file.writeframes(signal[i*FRQ*2:(i+1)*FRQ*2])\n",
    "        data['id'].append(person_id)\n",
    "        data['path'].append(path)\n",
    "        n += 1"
   ]
  },
  {
   "cell_type": "code",
   "execution_count": 5,
   "metadata": {},
   "outputs": [],
   "source": [
    "data = pd.DataFrame(data)\n",
    "data.to_csv('data.csv', index=False)\n",
    "data = pd.read_csv('data.csv')"
   ]
  },
  {
   "cell_type": "code",
   "execution_count": 6,
   "metadata": {},
   "outputs": [
    {
     "data": {
      "text/html": [
       "<div>\n",
       "<style scoped>\n",
       "    .dataframe tbody tr th:only-of-type {\n",
       "        vertical-align: middle;\n",
       "    }\n",
       "\n",
       "    .dataframe tbody tr th {\n",
       "        vertical-align: top;\n",
       "    }\n",
       "\n",
       "    .dataframe thead th {\n",
       "        text-align: right;\n",
       "    }\n",
       "</style>\n",
       "<table border=\"1\" class=\"dataframe\">\n",
       "  <thead>\n",
       "    <tr style=\"text-align: right;\">\n",
       "      <th></th>\n",
       "      <th>id</th>\n",
       "      <th>path</th>\n",
       "    </tr>\n",
       "  </thead>\n",
       "  <tbody>\n",
       "    <tr>\n",
       "      <th>0</th>\n",
       "      <td>1</td>\n",
       "      <td>data/1/0.wav</td>\n",
       "    </tr>\n",
       "    <tr>\n",
       "      <th>1</th>\n",
       "      <td>1</td>\n",
       "      <td>data/1/1.wav</td>\n",
       "    </tr>\n",
       "    <tr>\n",
       "      <th>2</th>\n",
       "      <td>1</td>\n",
       "      <td>data/1/2.wav</td>\n",
       "    </tr>\n",
       "    <tr>\n",
       "      <th>3</th>\n",
       "      <td>1</td>\n",
       "      <td>data/1/3.wav</td>\n",
       "    </tr>\n",
       "    <tr>\n",
       "      <th>4</th>\n",
       "      <td>1</td>\n",
       "      <td>data/1/4.wav</td>\n",
       "    </tr>\n",
       "    <tr>\n",
       "      <th>...</th>\n",
       "      <td>...</td>\n",
       "      <td>...</td>\n",
       "    </tr>\n",
       "    <tr>\n",
       "      <th>61</th>\n",
       "      <td>5</td>\n",
       "      <td>data/5/31.wav</td>\n",
       "    </tr>\n",
       "    <tr>\n",
       "      <th>62</th>\n",
       "      <td>5</td>\n",
       "      <td>data/5/32.wav</td>\n",
       "    </tr>\n",
       "    <tr>\n",
       "      <th>63</th>\n",
       "      <td>5</td>\n",
       "      <td>data/5/33.wav</td>\n",
       "    </tr>\n",
       "    <tr>\n",
       "      <th>64</th>\n",
       "      <td>5</td>\n",
       "      <td>data/5/34.wav</td>\n",
       "    </tr>\n",
       "    <tr>\n",
       "      <th>65</th>\n",
       "      <td>5</td>\n",
       "      <td>data/5/35.wav</td>\n",
       "    </tr>\n",
       "  </tbody>\n",
       "</table>\n",
       "<p>66 rows × 2 columns</p>\n",
       "</div>"
      ],
      "text/plain": [
       "    id           path\n",
       "0    1   data/1/0.wav\n",
       "1    1   data/1/1.wav\n",
       "2    1   data/1/2.wav\n",
       "3    1   data/1/3.wav\n",
       "4    1   data/1/4.wav\n",
       "..  ..            ...\n",
       "61   5  data/5/31.wav\n",
       "62   5  data/5/32.wav\n",
       "63   5  data/5/33.wav\n",
       "64   5  data/5/34.wav\n",
       "65   5  data/5/35.wav\n",
       "\n",
       "[66 rows x 2 columns]"
      ]
     },
     "execution_count": 6,
     "metadata": {},
     "output_type": "execute_result"
    }
   ],
   "source": [
    "data"
   ]
  },
  {
   "cell_type": "code",
   "execution_count": null,
   "metadata": {},
   "outputs": [],
   "source": []
  }
 ],
 "metadata": {
  "kernelspec": {
   "display_name": "Python 3",
   "language": "python",
   "name": "python3"
  },
  "language_info": {
   "codemirror_mode": {
    "name": "ipython",
    "version": 3
   },
   "file_extension": ".py",
   "mimetype": "text/x-python",
   "name": "python",
   "nbconvert_exporter": "python",
   "pygments_lexer": "ipython3",
   "version": "3.7.6"
  }
 },
 "nbformat": 4,
 "nbformat_minor": 4
}
